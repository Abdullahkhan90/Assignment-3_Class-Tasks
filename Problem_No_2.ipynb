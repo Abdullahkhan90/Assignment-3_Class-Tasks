{
  "nbformat": 4,
  "nbformat_minor": 0,
  "metadata": {
    "colab": {
      "provenance": [],
      "authorship_tag": "ABX9TyMTU6uK8B62EHq+6/d0uv+Y",
      "include_colab_link": true
    },
    "kernelspec": {
      "name": "python3",
      "display_name": "Python 3"
    },
    "language_info": {
      "name": "python"
    }
  },
  "cells": [
    {
      "cell_type": "markdown",
      "metadata": {
        "id": "view-in-github",
        "colab_type": "text"
      },
      "source": [
        "<a href=\"https://colab.research.google.com/github/Abdullahkhan90/Assignment-3_Class-Tasks/blob/main/Problem_No_2.ipynb\" target=\"_parent\"><img src=\"https://colab.research.google.com/assets/colab-badge.svg\" alt=\"Open In Colab\"/></a>"
      ]
    },
    {
      "cell_type": "markdown",
      "source": [
        "# ***Problem No 2***"
      ],
      "metadata": {
        "id": "7FYw27wnTpCh"
      }
    },
    {
      "cell_type": "code",
      "source": [
        "# 🔤 Function of vowels:\n",
        "\n",
        "def count_vowels(s):\n",
        "    vowels = {'a', 'e', 'i', 'o', 'u'}\n",
        "    count = 0\n",
        "    for char in s.lower():\n",
        "        if char in vowels:\n",
        "            count += 1\n",
        "    return count\n",
        "\n",
        "input_str = \"Pineapple\"\n",
        "\n",
        "vowel_count = count_vowels(input_str)\n",
        "\n",
        "print(\"Number of vowels:\", vowel_count)\n"
      ],
      "metadata": {
        "colab": {
          "base_uri": "https://localhost:8080/"
        },
        "id": "HLS0N7q0TsXf",
        "outputId": "d4b5b90f-4c47-47ef-ed5e-a6e07a9c12ff"
      },
      "execution_count": 1,
      "outputs": [
        {
          "output_type": "stream",
          "name": "stdout",
          "text": [
            "Number of vowels: 4\n"
          ]
        }
      ]
    }
  ]
}