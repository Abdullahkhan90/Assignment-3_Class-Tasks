{
  "nbformat": 4,
  "nbformat_minor": 0,
  "metadata": {
    "colab": {
      "provenance": [],
      "authorship_tag": "ABX9TyOuH0Qeul7XCf4ECeOChspJ",
      "include_colab_link": true
    },
    "kernelspec": {
      "name": "python3",
      "display_name": "Python 3"
    },
    "language_info": {
      "name": "python"
    }
  },
  "cells": [
    {
      "cell_type": "markdown",
      "metadata": {
        "id": "view-in-github",
        "colab_type": "text"
      },
      "source": [
        "<a href=\"https://colab.research.google.com/github/Abdullahkhan90/Assignment-3_Class-Tasks/blob/main/Problem_Number_3.ipynb\" target=\"_parent\"><img src=\"https://colab.research.google.com/assets/colab-badge.svg\" alt=\"Open In Colab\"/></a>"
      ]
    },
    {
      "cell_type": "markdown",
      "source": [
        "# ***`Problem Number 3:`***"
      ],
      "metadata": {
        "id": "vDgkT7v2Ufcp"
      }
    },
    {
      "cell_type": "code",
      "source": [
        "# + Function to calculate sum of digits in a number:\n",
        "\n",
        "def sum_of_digits(n):\n",
        "    total = 0\n",
        "    while n > 0:\n",
        "        total += n % 10\n",
        "        n //= 10\n",
        "    return total\n",
        "\n",
        "input_number = 5954\n",
        "\n",
        "\n",
        "digit_sum = sum_of_digits(input_number)\n",
        "print(\"Sum of digits:\", digit_sum)\n"
      ],
      "metadata": {
        "colab": {
          "base_uri": "https://localhost:8080/"
        },
        "id": "7Gv0i40DUo2k",
        "outputId": "6b55de14-d961-4ce3-c7dc-b4f955438f12"
      },
      "execution_count": 2,
      "outputs": [
        {
          "output_type": "stream",
          "name": "stdout",
          "text": [
            "Sum of digits: 23\n"
          ]
        }
      ]
    }
  ]
}